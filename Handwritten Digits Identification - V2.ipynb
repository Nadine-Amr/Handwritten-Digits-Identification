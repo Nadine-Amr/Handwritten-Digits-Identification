{
  "nbformat": 4,
  "nbformat_minor": 0,
  "metadata": {
    "colab": {
      "provenance": [],
      "collapsed_sections": [],
      "toc_visible": true
    },
    "kernelspec": {
      "name": "python3",
      "display_name": "Python 3"
    },
    "language_info": {
      "name": "python"
    }
  },
  "cells": [
    {
      "cell_type": "markdown",
      "source": [
        "<h1 align=\"center\">Purdue University</h1>\n",
        "<h2 align=\"center\">CNIT 623 (Fall 2022)</h2>\n",
        "<h3 align=\"center\">Assignment 1 - Nadine Amin</h3>"
      ],
      "metadata": {
        "id": "9hrAhWwsHuJO"
      }
    },
    {
      "cell_type": "code",
      "source": [
        "#import needed libraries\n",
        "from tensorflow.keras import datasets, layers, models, optimizers\n",
        "import matplotlib.pyplot as plt"
      ],
      "metadata": {
        "id": "7hN7kimHP3uj"
      },
      "execution_count": 1,
      "outputs": []
    },
    {
      "cell_type": "markdown",
      "source": [
        "## 1. Import the MNIST Dataset of Handwritten Digits"
      ],
      "metadata": {
        "id": "2YQdgDNDIE0K"
      }
    },
    {
      "cell_type": "code",
      "execution_count": null,
      "metadata": {
        "id": "Q6Tk-wrKHcy-"
      },
      "outputs": [],
      "source": [
        "#import dataset\n",
        "(train_images, train_labels), (test_images, test_labels) = datasets.mnist.load_data()"
      ]
    },
    {
      "cell_type": "markdown",
      "source": [
        "## 2. Explore & Preprocess the Dataset"
      ],
      "metadata": {
        "id": "3UXzr_vHJBgJ"
      }
    },
    {
      "cell_type": "code",
      "source": [
        "#size of training images\n",
        "train_images.shape"
      ],
      "metadata": {
        "colab": {
          "base_uri": "https://localhost:8080/"
        },
        "id": "HtHNhFzyHrr9",
        "outputId": "90205b78-122d-4269-d8d4-0d6e59a82c0b"
      },
      "execution_count": 3,
      "outputs": [
        {
          "output_type": "execute_result",
          "data": {
            "text/plain": [
              "(60000, 28, 28)"
            ]
          },
          "metadata": {},
          "execution_count": 3
        }
      ]
    },
    {
      "cell_type": "code",
      "source": [
        "#size of training labels\n",
        "train_labels.shape"
      ],
      "metadata": {
        "colab": {
          "base_uri": "https://localhost:8080/"
        },
        "id": "Di3VZ8O0JSkz",
        "outputId": "13ff2da7-8ee1-4ddb-94a6-5e459e04c307"
      },
      "execution_count": 4,
      "outputs": [
        {
          "output_type": "execute_result",
          "data": {
            "text/plain": [
              "(60000,)"
            ]
          },
          "metadata": {},
          "execution_count": 4
        }
      ]
    },
    {
      "cell_type": "code",
      "source": [
        "#size of testing images\n",
        "test_images.shape"
      ],
      "metadata": {
        "colab": {
          "base_uri": "https://localhost:8080/"
        },
        "id": "3bmrwwFaJYlZ",
        "outputId": "376b69b5-f04b-4eed-be0c-1ad840fd6bfd"
      },
      "execution_count": 5,
      "outputs": [
        {
          "output_type": "execute_result",
          "data": {
            "text/plain": [
              "(10000, 28, 28)"
            ]
          },
          "metadata": {},
          "execution_count": 5
        }
      ]
    },
    {
      "cell_type": "code",
      "source": [
        "#size of testing labels\n",
        "test_labels.shape"
      ],
      "metadata": {
        "colab": {
          "base_uri": "https://localhost:8080/"
        },
        "id": "7PzPhwxhJbEt",
        "outputId": "4dba13d6-2af3-40ee-f33a-fb987db207fe"
      },
      "execution_count": 6,
      "outputs": [
        {
          "output_type": "execute_result",
          "data": {
            "text/plain": [
              "(10000,)"
            ]
          },
          "metadata": {},
          "execution_count": 6
        }
      ]
    },
    {
      "cell_type": "code",
      "source": [
        "#display the first 25 images in the training dataset along with their labels\n",
        "class_names = ['zero', 'one', 'two', 'three', 'four', 'five',\n",
        "               'six', 'seven', 'eight', 'nine']\n",
        "\n",
        "plt.figure(figsize=(10,10))\n",
        "for i in range(25):\n",
        "    plt.subplot(5,5,i+1)\n",
        "    plt.xticks([])\n",
        "    plt.yticks([])\n",
        "    plt.imshow(train_images[i], cmap=plt.cm.binary)\n",
        "    plt.xlabel(class_names[train_labels[i]])"
      ],
      "metadata": {
        "colab": {
          "base_uri": "https://localhost:8080/",
          "height": 589
        },
        "id": "FF6fKX1JJdf9",
        "outputId": "e98326a8-2c10-499b-8f61-070301c0eb94"
      },
      "execution_count": 7,
      "outputs": [
        {
          "output_type": "display_data",
          "data": {
            "text/plain": [
              "<Figure size 720x720 with 25 Axes>"
            ],
            "image/png": "[encoded data removed]"
          },
          "metadata": {}
        }
      ]
    },
    {
      "cell_type": "code",
      "source": [
        "#normalize input images\n",
        "train_images = train_images.reshape(60000, 28, 28, 1).astype('float32')/255.0\n",
        "test_images = test_images.reshape(10000, 28, 28, 1).astype('float32')/255.0"
      ],
      "metadata": {
        "id": "reDPebM-KSGF"
      },
      "execution_count": 8,
      "outputs": []
    },
    {
      "cell_type": "markdown",
      "source": [
        "## 3. Build the Model"
      ],
      "metadata": {
        "id": "pwxiNVcaPUp7"
      }
    },
    {
      "cell_type": "code",
      "source": [
        "#build the tf.keras.Sequential model by stacking layers\n",
        "### 1 Hidden Layer ###\n",
        "#model = models.Sequential()\n",
        "\n",
        "#model.add(layers.Flatten(input_shape=(28,28,1)))\n",
        "#model.add(layers.Dense(784, activation='relu'))\n",
        "#model.add(layers.Dense(10, activation='softmax'))\n",
        "\n",
        "#model.summary()"
      ],
      "metadata": {
        "id": "UQ9MhRtChtlU"
      },
      "execution_count": null,
      "outputs": []
    },
    {
      "cell_type": "code",
      "source": [
        "#build the tf.keras.Sequential model by stacking layers\n",
        "### 2 Hidden Layers ###\n",
        "model = models.Sequential()\n",
        "\n",
        "model.add(layers.Flatten(input_shape=(28,28,1)))\n",
        "model.add(layers.Dense(600, activation='relu'))\n",
        "model.add(layers.Dense(100, activation='relu'))\n",
        "model.add(layers.Dense(10, activation='softmax'))\n",
        "\n",
        "model.summary()"
      ],
      "metadata": {
        "colab": {
          "base_uri": "https://localhost:8080/"
        },
        "id": "RF2ILo5deC9L",
        "outputId": "26acc347-6c51-4964-b269-01d62cb3239b"
      },
      "execution_count": 12,
      "outputs": [
        {
          "output_type": "stream",
          "name": "stdout",
          "text": [
            "Model: \"sequential_1\"\n",
            "_________________________________________________________________\n",
            " Layer (type)                Output Shape              Param #   \n",
            "=================================================================\n",
            " flatten_1 (Flatten)         (None, 784)               0         \n",
            "                                                                 \n",
            " dense_3 (Dense)             (None, 600)               471000    \n",
            "                                                                 \n",
            " dense_4 (Dense)             (None, 100)               60100     \n",
            "                                                                 \n",
            " dense_5 (Dense)             (None, 10)                1010      \n",
            "                                                                 \n",
            "=================================================================\n",
            "Total params: 532,110\n",
            "Trainable params: 532,110\n",
            "Non-trainable params: 0\n",
            "_________________________________________________________________\n"
          ]
        }
      ]
    },
    {
      "cell_type": "code",
      "source": [
        "#build the tf.keras.Sequential model by stacking layers\n",
        "### 3 Hidden Layers ###\n",
        "#model = models.Sequential()\n",
        "\n",
        "#model.add(layers.Flatten(input_shape=(28,28,1)))\n",
        "#model.add(layers.Dense(600, activation='relu'))\n",
        "#model.add(layers.Dense(50, activation='relu'))\n",
        "#model.add(layers.Dense(50, activation='relu'))\n",
        "#model.add(layers.Dense(10, activation='softmax'))\n",
        "\n",
        "#model.summary()"
      ],
      "metadata": {
        "id": "6GoHmL8ELA62"
      },
      "execution_count": null,
      "outputs": []
    },
    {
      "cell_type": "code",
      "source": [
        "#choose an optimizer and loss function for training\n",
        "model.compile(optimizer='adam', \n",
        "              loss='sparse_categorical_crossentropy',\n",
        "              metrics=['accuracy'])"
      ],
      "metadata": {
        "id": "afTJF0O0TVfc"
      },
      "execution_count": 13,
      "outputs": []
    },
    {
      "cell_type": "markdown",
      "source": [
        "##Train the Model"
      ],
      "metadata": {
        "id": "iO81Qqg2dP7F"
      }
    },
    {
      "cell_type": "code",
      "source": [
        "# train the fully-connected NN model\n",
        "history = model.fit(train_images, train_labels, epochs=10, batch_size=128,\n",
        "                    validation_data=(test_images, test_labels))"
      ],
      "metadata": {
        "id": "QL50ZDdVZAFv"
      },
      "execution_count": null,
      "outputs": []
    },
    {
      "cell_type": "markdown",
      "source": [
        "## Evaluate the Model"
      ],
      "metadata": {
        "id": "kd9Le0OedZQ7"
      }
    },
    {
      "cell_type": "code",
      "source": [
        "#accuracy plot\n",
        "plt.plot(history.history['accuracy'], label='Training Accuracy')\n",
        "plt.plot(history.history['val_accuracy'], label = 'Testing Accuracy')\n",
        "plt.xlabel('Epoch')\n",
        "plt.ylabel('Accuracy')\n",
        "plt.xlim([0, 9])\n",
        "plt.ylim([0.5, 1])\n",
        "plt.legend(loc='lower right')\n",
        "\n",
        "test_loss, test_acc = model.evaluate(test_images,  test_labels, verbose=2)\n",
        "print('Test Loss: ', test_loss, '\\nTest Accuracy: ', test_acc)"
      ],
      "metadata": {
        "id": "zdWkxeN9ZnmX"
      },
      "execution_count": null,
      "outputs": []
    },
    {
      "cell_type": "code",
      "source": [
        "#loss plot\n",
        "plt.plot(history.history['loss'], label='Training Loss')\n",
        "plt.plot(history.history['val_loss'], label = 'Testing Loss')\n",
        "plt.xlabel('Epoch')\n",
        "plt.ylabel('Loss')\n",
        "plt.xlim([0, 9])\n",
        "plt.legend(loc='lower right')\n",
        "\n",
        "test_loss, test_acc = model.evaluate(test_images,  test_labels, verbose=2)\n",
        "print('Test Loss: ', test_loss, '\\nTest Accuracy: ', test_acc)"
      ],
      "metadata": {
        "id": "HZFW_NRM1kMX"
      },
      "execution_count": null,
      "outputs": []
    }
  ]
}